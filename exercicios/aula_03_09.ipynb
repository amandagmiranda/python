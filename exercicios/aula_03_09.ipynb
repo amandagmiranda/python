{
  "nbformat": 4,
  "nbformat_minor": 0,
  "metadata": {
    "kernelspec": {
      "display_name": "Python 3",
      "language": "python",
      "name": "python3"
    },
    "language_info": {
      "codemirror_mode": {
        "name": "ipython",
        "version": 3
      },
      "file_extension": ".py",
      "mimetype": "text/x-python",
      "name": "python",
      "nbconvert_exporter": "python",
      "pygments_lexer": "ipython3",
      "version": "3.6.4"
    },
    "colab": {
      "provenance": [],
      "include_colab_link": true
    }
  },
  "cells": [
    {
      "cell_type": "markdown",
      "metadata": {
        "id": "view-in-github",
        "colab_type": "text"
      },
      "source": [
        "<a href=\"https://colab.research.google.com/github/amandagmiranda/python/blob/main/exercicios/aula_03_09.ipynb\" target=\"_parent\"><img src=\"https://colab.research.google.com/assets/colab-badge.svg\" alt=\"Open In Colab\"/></a>"
      ]
    },
    {
      "cell_type": "markdown",
      "metadata": {
        "id": "EjDPXm8TzVbs"
      },
      "source": [
        "# Aula 4 : Funções,  argumentos e fluxo de execução\n",
        "\n",
        "Essa aula é um resumo do capítulo 3 do livro \"Pense em Python\": https://penseallen.github.io/PensePython2e/03-funcoes.html\n",
        "\n",
        "## Aula Passada:\n",
        "Na última aula vimos:\n",
        "* Chamada de funções;\n",
        "* Funções Matemáticas;\n",
        "* Composição: combinação de pequenos blocos de construção;\n",
        "* Como adicionar novas funções;\n",
        "* Definições e usos.\n",
        "\n",
        "\n",
        "## Fluxo de Execução\n",
        "\n",
        "Para garantir que uma função seja definida antes de seu primeiro uso, você deve saber a ordem em que as instruções são executadas, o que é chamado de __fluxo de execução__ . A execução sempre começa na primeira declaração **do programa** (main). As declarações são executadas uma de cada vez, em ordem de cima para baixo.\n",
        "\n",
        "As definições de função não alteram o fluxo de execução do programa, mas as instruções dentro da função **não serão executadas até que a função seja chamada**. Uma chamada de função é como um desvio no fluxo de execução. Em vez de ir para a próxima instrução, o fluxo pula para o corpo da função, executa todas as instruções e, em seguida, volta para continuar de onde parou.\n"
      ]
    },
    {
      "cell_type": "code",
      "metadata": {
        "id": "8XnkaZomzVbu",
        "colab": {
          "base_uri": "https://localhost:8080/"
        },
        "outputId": "11a9f992-997d-4372-d838-cb68b639fe40"
      },
      "source": [
        "def meuverso(palavras):\n",
        "    print(palavras)\n",
        "    print(palavras)\n",
        "\n",
        "def minhacancao(verso1, verso2):\n",
        "    meuverso(verso1)\n",
        "    meuverso(verso2)\n",
        "\n",
        "minhacancao(\"lalarí\",\"lalará\")"
      ],
      "execution_count": null,
      "outputs": [
        {
          "output_type": "stream",
          "name": "stdout",
          "text": [
            "lalarí\n",
            "lalarí\n",
            "lalará\n",
            "lalará\n"
          ]
        }
      ]
    },
    {
      "cell_type": "markdown",
      "metadata": {
        "id": "mwVmxZfJzVb8"
      },
      "source": [
        "O fluxo de execução do código anterior chama a função ```minhacancao``` na linha 9 com argumentos ```\"lalarí\"``` e ```\"lalará\"```, que por sua vez chama duas vezes a função ```meuverso```, uma para cada palavra."
      ]
    },
    {
      "cell_type": "code",
      "metadata": {
        "id": "W1XdSGRHzVb9",
        "colab": {
          "base_uri": "https://localhost:8080/"
        },
        "outputId": "7fc2e413-db81-4201-eaff-e4e600e845fe"
      },
      "source": [
        "minhacancao(\"naaaaa na na nana nanaa\",\"tudum tudum dum\")"
      ],
      "execution_count": null,
      "outputs": [
        {
          "output_type": "stream",
          "name": "stdout",
          "text": [
            "naaaaa na na nana nanaa\n",
            "naaaaa na na nana nanaa\n",
            "tudum tudum dum\n",
            "tudum tudum dum\n"
          ]
        }
      ]
    },
    {
      "cell_type": "markdown",
      "metadata": {
        "id": "Mceory1YzVcI"
      },
      "source": [
        "Então, quando você lê um programa, nem sempre quer ler de cima para baixo. Às vezes faz mais sentido ***seguir o fluxo de execução***."
      ]
    },
    {
      "cell_type": "markdown",
      "metadata": {
        "id": "4LqVkR3_zVcJ"
      },
      "source": [
        "### Parâmetros e argumentos\n",
        "\n",
        "Algumas das funções internas e definidas por nós que temos visto requerem ___argumentos___. Por exemplo, quando você chama ```math.sin```, você passa um número como um argumento. Algumas funções levam mais de um argumento: ```math.pow```, por exemplo, toma dois: a base e o expoente.\n",
        "\n",
        "Dentro da função, os argumentos são atribuídos a variáveis locais chamadas ***parâmetros***.\n",
        "No exemplo anterior, a função ```meuverso``` leva só um argumento.  Esta função atribui o argumento a um parâmetro chamado ```palavras```. Quando a função é chamada, ela imprime o valor do parâmetro (o que quer que seja) duas vezes.\n",
        "\n",
        "As mesmas regras de composição que se aplicam a funções internas do Python também se aplicam a funções definidas pelo usuário, então podemos usar qualquer tipo de expressão como um argumento para ```meuverso```:"
      ]
    },
    {
      "cell_type": "code",
      "metadata": {
        "id": "qbYeTEyMzVcJ",
        "colab": {
          "base_uri": "https://localhost:8080/"
        },
        "outputId": "303e0248-2a7c-48ce-d286-9b8af027cd98"
      },
      "source": [
        "meuverso(\"ha \" *3 + \"ho \"*3)"
      ],
      "execution_count": null,
      "outputs": [
        {
          "output_type": "stream",
          "name": "stdout",
          "text": [
            "ha ha ha ho ho ho \n",
            "ha ha ha ho ho ho \n"
          ]
        }
      ]
    },
    {
      "cell_type": "markdown",
      "metadata": {
        "id": "ARSnPYLLzVcP"
      },
      "source": [
        "Também a função ```meuverso``` funciona com ___qualquer valor que possa ser impresso___, p. ex. números ou expressões numéricas:"
      ]
    },
    {
      "cell_type": "code",
      "metadata": {
        "id": "T8RPy4QxzVcQ",
        "colab": {
          "base_uri": "https://localhost:8080/"
        },
        "outputId": "82757e52-f840-4892-94b3-9de3a25bd205"
      },
      "source": [
        "meuverso(35*90/110)"
      ],
      "execution_count": null,
      "outputs": [
        {
          "output_type": "stream",
          "name": "stdout",
          "text": [
            "28.636363636363637\n",
            "28.636363636363637\n"
          ]
        }
      ]
    },
    {
      "cell_type": "markdown",
      "metadata": {
        "id": "YGJ4O8mkzVcX"
      },
      "source": [
        "**O argumento é avaliado antes que a função seja chamada**, portanto, no exemplo acima, as expressões ```\"ha \"*3+ \"he\"*3``` e ```35*90/110 ``` são avaliadas apenas uma vez.\n",
        "\n",
        "Você também pode usar uma **variável como um argumento**:"
      ]
    },
    {
      "cell_type": "code",
      "metadata": {
        "id": "LmtXpB4zzVcZ",
        "colab": {
          "base_uri": "https://localhost:8080/"
        },
        "outputId": "ac578a36-0fe8-4ea1-e4a5-c0554c4486a0"
      },
      "source": [
        "bicycle= \"I want to ride my bicycle\"\n",
        "meuverso(bicycle)"
      ],
      "execution_count": null,
      "outputs": [
        {
          "output_type": "stream",
          "name": "stdout",
          "text": [
            "I want to ride my bicycle\n",
            "I want to ride my bicycle\n"
          ]
        }
      ]
    },
    {
      "cell_type": "markdown",
      "metadata": {
        "id": "vPEn9XcCzVcd"
      },
      "source": [
        "O nome da variável que passamos como argumento (```bicycle``` ) não tem nada a ver com o nome do parâmetro ( ```palavras``` ). Não importa qual era o nome da variável antes (no chamador); aqui dentro do ```meuverso```, a chamamos de ```palavras```."
      ]
    },
    {
      "cell_type": "markdown",
      "metadata": {
        "id": "MM0PYZIuzVce"
      },
      "source": [
        "### Variáveis e parâmetros são locais\n",
        "\n",
        "Quando você cria uma variável dentro de uma função, ela é **local** , o que significa que ela **existe somente dentro da função**. Por exemplo:"
      ]
    },
    {
      "cell_type": "code",
      "metadata": {
        "id": "_WyVqkH2zVcg"
      },
      "source": [
        "def gato_duplo (parte1, parte2):\n",
        "    gato = parte1 + parte2\n",
        "    meuverso (gato)"
      ],
      "execution_count": null,
      "outputs": []
    },
    {
      "cell_type": "markdown",
      "metadata": {
        "id": "P2s0hWnSzVcm"
      },
      "source": [
        "Essa função recebe dois argumentos, concatena-os e imprime o resultado duas vezes. Aqui está um exemplo que usa:"
      ]
    },
    {
      "cell_type": "code",
      "metadata": {
        "id": "don58wwqzVcn",
        "colab": {
          "base_uri": "https://localhost:8080/"
        },
        "outputId": "09bb476e-47a6-4f9e-e061-f65a61383805"
      },
      "source": [
        "linha1 = \"blim \"\n",
        "linha2 = \"blem! \"\n",
        "gato_duplo(linha1,linha2)"
      ],
      "execution_count": null,
      "outputs": [
        {
          "output_type": "stream",
          "name": "stdout",
          "text": [
            "blim blem! \n",
            "blim blem! \n"
          ]
        }
      ]
    },
    {
      "cell_type": "markdown",
      "metadata": {
        "id": "a12j-NG9zVcr"
      },
      "source": [
        "Quando ```gato_duplo``` termina, a **variável ```gato``` é destruída**. Se tentarmos imprimi-la, obtemos uma exceção."
      ]
    },
    {
      "cell_type": "code",
      "metadata": {
        "id": "e1K5z44RzVcs",
        "colab": {
          "base_uri": "https://localhost:8080/",
          "height": 141
        },
        "outputId": "fefc21d8-8ab9-4854-f21d-910b24fd1126"
      },
      "source": [
        "print(gato)"
      ],
      "execution_count": null,
      "outputs": [
        {
          "output_type": "error",
          "ename": "NameError",
          "evalue": "name 'gato' is not defined",
          "traceback": [
            "\u001b[0;31m---------------------------------------------------------------------------\u001b[0m",
            "\u001b[0;31mNameError\u001b[0m                                 Traceback (most recent call last)",
            "\u001b[0;32m/tmp/ipython-input-3854182895.py\u001b[0m in \u001b[0;36m<cell line: 0>\u001b[0;34m()\u001b[0m\n\u001b[0;32m----> 1\u001b[0;31m \u001b[0mprint\u001b[0m\u001b[0;34m(\u001b[0m\u001b[0mgato\u001b[0m\u001b[0;34m)\u001b[0m\u001b[0;34m\u001b[0m\u001b[0;34m\u001b[0m\u001b[0m\n\u001b[0m",
            "\u001b[0;31mNameError\u001b[0m: name 'gato' is not defined"
          ]
        }
      ]
    },
    {
      "cell_type": "markdown",
      "metadata": {
        "id": "-TC4_e9XzVcw"
      },
      "source": [
        "Os parâmetros também são locais. Por exemplo, do lado de fora de ```meuverso```, não existe ```palavras```."
      ]
    },
    {
      "cell_type": "code",
      "metadata": {
        "scrolled": true,
        "id": "REhz2DxgzVcx",
        "colab": {
          "base_uri": "https://localhost:8080/",
          "height": 141
        },
        "outputId": "1a3cce23-7835-49d8-f41a-59b58e5a0a63"
      },
      "source": [
        "print(palavras)"
      ],
      "execution_count": null,
      "outputs": [
        {
          "output_type": "error",
          "ename": "NameError",
          "evalue": "name 'palavras' is not defined",
          "traceback": [
            "\u001b[0;31m---------------------------------------------------------------------------\u001b[0m",
            "\u001b[0;31mNameError\u001b[0m                                 Traceback (most recent call last)",
            "\u001b[0;32m/tmp/ipython-input-3202520282.py\u001b[0m in \u001b[0;36m<cell line: 0>\u001b[0;34m()\u001b[0m\n\u001b[0;32m----> 1\u001b[0;31m \u001b[0mprint\u001b[0m\u001b[0;34m(\u001b[0m\u001b[0mpalavras\u001b[0m\u001b[0;34m)\u001b[0m\u001b[0;34m\u001b[0m\u001b[0;34m\u001b[0m\u001b[0m\n\u001b[0m",
            "\u001b[0;31mNameError\u001b[0m: name 'palavras' is not defined"
          ]
        }
      ]
    },
    {
      "cell_type": "markdown",
      "metadata": {
        "id": "e-yP6JKLzVc2"
      },
      "source": [
        "## _Traceback_\n",
        "Se ocorrer um erro durante uma chamada de função, o interpretador de Python imprime o nome da função e o nome da função que a chamou, e o nome da função que chamou esta outra, todo o caminho de volta para ```__main__```.\n",
        "\n",
        "Por exemplo, considere o script abaixo.\n",
        "Ao tentar acessar ```gato``` de dentro ```meuverso```, você receberá um ```NameError``` :\n"
      ]
    },
    {
      "cell_type": "code",
      "metadata": {
        "id": "qiyl7SLdzVc4"
      },
      "source": [
        "def meuverso(palavras):\n",
        "    print(palavras)\n",
        "    print(palavras)\n",
        "    # Removed the incorrect access to 'gato'\n",
        "\n",
        "def minhacancao(verso1, verso2):\n",
        "    meuverso(verso1)\n",
        "    meuverso(verso2)\n",
        "\n",
        "def gato_duplo (parte1, parte2):\n",
        "    gato = parte1 + parte2\n",
        "    meuverso (gato) # Pass 'gato' as an argument to meuverso\n",
        "\n",
        "\n",
        "linha1= \"miau\"\n",
        "linha2= \"grrr miau\"\n",
        "gato_duplo(linha1,linha2)"
      ],
      "execution_count": null,
      "outputs": []
    },
    {
      "cell_type": "markdown",
      "metadata": {
        "id": "8yf0fejuzVc7"
      },
      "source": [
        "Esta lista de funções é chamada de ___traceback___ ou rastreamento. Ele informa em qual arquivo de programa ocorreu o erro, e qual linha e quais funções estavam sendo executadas no momento. Também mostra a linha de código que causou o erro.\n",
        "\n",
        "Na ordem das funções no _traceback_ a  função que está sendo executada atualmente está na parte inferior. O formato do texto do _traceback_ pode ser um pouco diferente se você estiver executando ele no terminal."
      ]
    },
    {
      "cell_type": "markdown",
      "metadata": {
        "id": "dqIG5_xyzVc7"
      },
      "source": [
        "## Funções com retorno e funções vazias\n",
        "\n",
        "Algumas das funções que estamos usando, como as funções matemáticas, produzem resultados; chamaremos elas de **funções com retorno**. Outras funções, como aquelas definidas acima (```meuverso``` e ```minhacancao```), executam uma ação, mas não retornam um valor. Elas são chamadas de **funções vazias** (void).\n",
        "\n",
        "### Funções com retorno\n",
        "\n",
        "Quando você chama uma função com retorno, você quase sempre ___quer fazer alguma coisa com o resultado___; por exemplo, você pode atribuí-lo a uma variável ou usá-lo como parte de uma expressão:\n"
      ]
    },
    {
      "cell_type": "code",
      "metadata": {
        "id": "m9Kfm_-zzVc8",
        "colab": {
          "base_uri": "https://localhost:8080/"
        },
        "outputId": "64b3e276-daee-4179-ca93-528009cb3160"
      },
      "source": [
        "import math\n",
        "x = math.cos (math.pi/4) # atribui o valor de retorno a uma variável, para que possa ser usada em outra parte do programa\n",
        "print(\"x=\" , x)\n",
        "golden = (math.sqrt (5) + 1) / 2  # usa o valor de retorno em uma expressão cujo resultado é atribuído a uma variável\n",
        "print(\"golden= \",golden)"
      ],
      "execution_count": null,
      "outputs": [
        {
          "output_type": "stream",
          "name": "stdout",
          "text": [
            "x= 0.7071067811865476\n",
            "golden=  1.618033988749895\n"
          ]
        }
      ]
    },
    {
      "cell_type": "markdown",
      "metadata": {
        "id": "F6b45f4IzVdE"
      },
      "source": [
        "Quando você chama uma função no modo interativo, o Python exibe o resultado:"
      ]
    },
    {
      "cell_type": "code",
      "metadata": {
        "id": "VXsBBRvmzVdF",
        "colab": {
          "base_uri": "https://localhost:8080/"
        },
        "outputId": "ed2323b5-29f5-41b5-d41d-b7be1a2f1baa"
      },
      "source": [
        "math.sqrt(5)"
      ],
      "execution_count": null,
      "outputs": [
        {
          "output_type": "execute_result",
          "data": {
            "text/plain": [
              "2.23606797749979"
            ]
          },
          "metadata": {},
          "execution_count": 12
        }
      ]
    },
    {
      "cell_type": "markdown",
      "metadata": {
        "id": "bkjRrQcsB0yv"
      },
      "source": [
        "Mas em um script, se você chamar uma função com retorno por si só, o valor de retorno será perdido __para sempre__!\n",
        "Se você colocar a linha acima num script, mas não armazena ou exibe (imprime) o resultado, esta linha não é muito útil."
      ]
    },
    {
      "cell_type": "markdown",
      "metadata": {
        "id": "w8NTjac0B3N0"
      },
      "source": [
        "#### Exemplo de definição de função com retorno:"
      ]
    },
    {
      "cell_type": "code",
      "metadata": {
        "id": "oAVuUeJoB-TO"
      },
      "source": [
        "def dobro(x):\n",
        "  '''\n",
        "  função com um argumento\n",
        "  x: int, float ou string\n",
        "  Valor de retorno: 2*x\n",
        "  '''\n",
        "  return 2*x"
      ],
      "execution_count": null,
      "outputs": []
    },
    {
      "cell_type": "code",
      "metadata": {
        "id": "BoSTsXP0CZZo",
        "colab": {
          "base_uri": "https://localhost:8080/"
        },
        "outputId": "48af457f-eefe-49bd-d2ce-de680fbca45b"
      },
      "source": [
        "dobro(4)"
      ],
      "execution_count": null,
      "outputs": [
        {
          "output_type": "execute_result",
          "data": {
            "text/plain": [
              "8"
            ]
          },
          "metadata": {},
          "execution_count": 15
        }
      ]
    },
    {
      "cell_type": "code",
      "metadata": {
        "id": "jMDZEpjcJhmB",
        "colab": {
          "base_uri": "https://localhost:8080/"
        },
        "outputId": "3e533584-46ea-4936-d8d0-720824fa68d7"
      },
      "source": [
        "y = dobro(4)\n",
        "z = dobro(y)\n",
        "t = y + z\n",
        "print(t)"
      ],
      "execution_count": null,
      "outputs": [
        {
          "output_type": "stream",
          "name": "stdout",
          "text": [
            "24\n"
          ]
        }
      ]
    },
    {
      "cell_type": "code",
      "source": [
        "help(dobro)"
      ],
      "metadata": {
        "id": "az74oXKLtbbo",
        "colab": {
          "base_uri": "https://localhost:8080/"
        },
        "outputId": "63f690b2-7230-4750-ebe8-0f9bf53be1b5"
      },
      "execution_count": null,
      "outputs": [
        {
          "output_type": "stream",
          "name": "stdout",
          "text": [
            "Help on function dobro in module __main__:\n",
            "\n",
            "dobro(x)\n",
            "    função com um argumento\n",
            "    x: int, float ou string\n",
            "    Valor de retorno: 2*x\n",
            "\n"
          ]
        }
      ]
    },
    {
      "cell_type": "markdown",
      "metadata": {
        "id": "scdKGFG5zVdL"
      },
      "source": [
        "### Funções vazias\n",
        "\n",
        "Por outro lado, as funções vazias podem exibir algo na tela ou ter algum outro efeito, mas não possuem um valor de retorno. Se você tentar atribuir o resultado a uma variável, receberá um valor especial chamado ```None``` (___nenhum___)."
      ]
    },
    {
      "cell_type": "code",
      "metadata": {
        "id": "8pnbMTbtzVdM",
        "colab": {
          "base_uri": "https://localhost:8080/"
        },
        "outputId": "3d611603-4571-4161-ad93-d1a82e943855"
      },
      "source": [
        "def meuverso(palavras):\n",
        "    print(palavras)\n",
        "    print(palavras)\n",
        "\n",
        "resultado = meuverso(\"under pressure\")"
      ],
      "execution_count": null,
      "outputs": [
        {
          "output_type": "stream",
          "name": "stdout",
          "text": [
            "under pressure\n",
            "under pressure\n"
          ]
        }
      ]
    },
    {
      "cell_type": "code",
      "metadata": {
        "id": "OqNOZySKzVdQ",
        "colab": {
          "base_uri": "https://localhost:8080/"
        },
        "outputId": "b433ef0d-71cc-4988-d657-478d9db2a125"
      },
      "source": [
        "print(resultado)"
      ],
      "execution_count": null,
      "outputs": [
        {
          "output_type": "stream",
          "name": "stdout",
          "text": [
            "None\n"
          ]
        }
      ]
    },
    {
      "cell_type": "markdown",
      "metadata": {
        "id": "rtYZ9FGezVdV"
      },
      "source": [
        "O valor ```None``` não é o mesmo que a string ```'None'```. É um valor especial que possui seu próprio tipo:"
      ]
    },
    {
      "cell_type": "code",
      "metadata": {
        "id": "MLHk202ozVdW",
        "colab": {
          "base_uri": "https://localhost:8080/"
        },
        "outputId": "ab3e3ed4-b9b4-442e-fbbc-7bb14cb61d12"
      },
      "source": [
        "print(type(resultado))"
      ],
      "execution_count": null,
      "outputs": [
        {
          "output_type": "stream",
          "name": "stdout",
          "text": [
            "<class 'NoneType'>\n"
          ]
        }
      ]
    },
    {
      "cell_type": "markdown",
      "metadata": {
        "id": "hkmQ4pw0zVda"
      },
      "source": [
        "## Por que utilizar funções?\n",
        "\n",
        "Pode não estar claro por que vale a pena dividir um programa em funções. Existem vários motivos:\n",
        "\n",
        "  * Criar uma nova função lhe dá a oportunidade de nomear um grupo de instruções, o que torna seu programa mais fácil de ler e debugar.\n",
        "  * Funções podem tornar um programa menor, eliminando código repetitivo. Mais tarde, se você fizer uma alteração, só terá que fazer isso em um só lugar.\n",
        "  * Dividir um programa longo em funções permite debugar as partes uma de cada vez e montá-las em um modo funcional.\n",
        "  * Funções bem projetadas geralmente são úteis para muitos programas. Depois de escrever e debugar um, você poderá reutilizá-lo.\n",
        "  "
      ]
    },
    {
      "cell_type": "markdown",
      "metadata": {
        "id": "8P-r-5N7zVdb"
      },
      "source": [
        "## Importando módulos com ```from```\n",
        "\n",
        "O Python fornece diferentes maneiras de importar módulos; nós já vimos um:"
      ]
    },
    {
      "cell_type": "code",
      "metadata": {
        "id": "4G23pvADzVdb",
        "colab": {
          "base_uri": "https://localhost:8080/"
        },
        "outputId": "7058e201-4fed-4f35-bbe9-518637d44dbb"
      },
      "source": [
        "import math\n",
        "print(math)\n",
        "print(math.pi)"
      ],
      "execution_count": null,
      "outputs": [
        {
          "output_type": "stream",
          "name": "stdout",
          "text": [
            "<module 'math' (built-in)>\n",
            "3.141592653589793\n"
          ]
        }
      ]
    },
    {
      "cell_type": "markdown",
      "metadata": {
        "id": "sx0FK4tIzVdf"
      },
      "source": [
        "Se você importar ```math``` , você receberá um objeto de módulo chamado ```math```. O objeto do módulo contém constantes como ```pi``` e funções como ```sin``` e ```exp```. Mas se você tentar acessar o ```pi``` diretamente, você receberá um erro."
      ]
    },
    {
      "cell_type": "code",
      "metadata": {
        "id": "hzGlMZoEzVdg",
        "colab": {
          "base_uri": "https://localhost:8080/",
          "height": 141
        },
        "outputId": "2020eb19-dde9-4fd9-9538-75656da4bb15"
      },
      "source": [
        "print(pi)"
      ],
      "execution_count": null,
      "outputs": [
        {
          "output_type": "error",
          "ename": "NameError",
          "evalue": "name 'pi' is not defined",
          "traceback": [
            "\u001b[0;31m---------------------------------------------------------------------------\u001b[0m",
            "\u001b[0;31mNameError\u001b[0m                                 Traceback (most recent call last)",
            "\u001b[0;32m/tmp/ipython-input-2493917274.py\u001b[0m in \u001b[0;36m<cell line: 0>\u001b[0;34m()\u001b[0m\n\u001b[0;32m----> 1\u001b[0;31m \u001b[0mprint\u001b[0m\u001b[0;34m(\u001b[0m\u001b[0mpi\u001b[0m\u001b[0;34m)\u001b[0m\u001b[0;34m\u001b[0m\u001b[0;34m\u001b[0m\u001b[0m\n\u001b[0m",
            "\u001b[0;31mNameError\u001b[0m: name 'pi' is not defined"
          ]
        }
      ]
    },
    {
      "cell_type": "markdown",
      "metadata": {
        "id": "6b6rMWPWzVdj"
      },
      "source": [
        "Como alternativa, você pode importar ___só um objeto___ de um módulo com a palavra-chave ```from```.\n",
        "\n",
        "Agora você pode acessar ```pi``` diretamente, sem notação de ponto."
      ]
    },
    {
      "cell_type": "code",
      "metadata": {
        "id": "yDtAqPpyzVdj",
        "colab": {
          "base_uri": "https://localhost:8080/"
        },
        "outputId": "515cb151-7d87-47da-f1df-831f19028166"
      },
      "source": [
        "from math import pi\n",
        "print(pi)"
      ],
      "execution_count": null,
      "outputs": [
        {
          "output_type": "stream",
          "name": "stdout",
          "text": [
            "3.141592653589793\n"
          ]
        }
      ]
    },
    {
      "cell_type": "code",
      "source": [
        "type(pi)"
      ],
      "metadata": {
        "id": "7yi_NQezuQ3F",
        "colab": {
          "base_uri": "https://localhost:8080/"
        },
        "outputId": "53333173-a8b3-4d67-a8a4-0369b31b760f"
      },
      "execution_count": null,
      "outputs": [
        {
          "output_type": "execute_result",
          "data": {
            "text/plain": [
              "float"
            ]
          },
          "metadata": {},
          "execution_count": 23
        }
      ]
    },
    {
      "cell_type": "markdown",
      "source": [
        "Você também pode importar um atributo ou função de um módulo, atribuindo um novo nome ao objeto importado:"
      ],
      "metadata": {
        "id": "CEvgTv3quhgp"
      }
    },
    {
      "cell_type": "code",
      "source": [
        "from math import pi as numero_pi\n",
        "print(numero_pi)"
      ],
      "metadata": {
        "id": "uOoiyagUurHb",
        "colab": {
          "base_uri": "https://localhost:8080/"
        },
        "outputId": "44523d3a-6fab-4e85-f061-56459b3d3446"
      },
      "execution_count": null,
      "outputs": [
        {
          "output_type": "stream",
          "name": "stdout",
          "text": [
            "3.141592653589793\n"
          ]
        }
      ]
    },
    {
      "cell_type": "markdown",
      "metadata": {
        "id": "UPI2xFw-zVdn"
      },
      "source": [
        "Ou você pode usar o operador star (```*```) para importar __tudo__ do módulo:"
      ]
    },
    {
      "cell_type": "code",
      "metadata": {
        "id": "GTqshQAdzVdn",
        "colab": {
          "base_uri": "https://localhost:8080/"
        },
        "outputId": "4ca80721-64a8-4bee-fa02-b5da3b890e47"
      },
      "source": [
        "from math import  *\n",
        "print(sin(pi/3))"
      ],
      "execution_count": null,
      "outputs": [
        {
          "output_type": "stream",
          "name": "stdout",
          "text": [
            "0.8660254037844386\n"
          ]
        }
      ]
    },
    {
      "cell_type": "code",
      "source": [
        "from math import  sin,pi\n",
        "print(sin(pi/3))"
      ],
      "metadata": {
        "colab": {
          "base_uri": "https://localhost:8080/"
        },
        "id": "fqVRrfQHQrWo",
        "outputId": "8bf06d7b-fde9-4682-a0a1-361278de6f63"
      },
      "execution_count": null,
      "outputs": [
        {
          "output_type": "stream",
          "name": "stdout",
          "text": [
            "0.8660254037844386\n"
          ]
        }
      ]
    },
    {
      "cell_type": "markdown",
      "metadata": {
        "id": "YcNHb9QxzVdr"
      },
      "source": [
        "A vantagem de importar tudo do módulo ```math``` é que seu código pode ser mais conciso. A desvantagem é que ___pode haver conflitos entre nomes___ definidos em módulos diferentes ou entre um nome de um módulo e uma de suas variáveis.\n",
        "\n",
        "## _Debugging_\n",
        "\n",
        "   * Se você estiver usando um editor de texto para escrever seus scripts, poderá encontrar problemas com espaços e tabulações. A melhor maneira de evitar esses problemas é usar ___espaços exclusivamente___ (sem guias). A maioria dos editores de texto que conhecem o Python fazem isso por padrão, mas outros não. Guias e espaços geralmente são invisíveis, o que dificulta o processo de debugar, por isso tente encontrar um editor que gerencie o recuo para você.\n",
        "\n",
        "   * Além disso, ___não esqueça de salvar seu programa___ antes de executá-lo. Alguns ambientes de desenvolvimento fazem isso automaticamente, mas outros não. Nesse caso, o programa que você está olhando no editor de texto não é o mesmo que o programa que você está executando. O _debugging_ pode levar muito tempo se você continuar executando o mesmo programa incorreto repetidas vezes! Certifique-se de que o código que você está vendo é o código que você está executando. Se você não tiver certeza, coloque algo como ```print('hello')``` no início do programa e execute-o novamente. Se você não vê 'hello' impresso na tela, você não está executando o programa certo!\n",
        "   \n",
        "## Glossário\n",
        "\n",
        "__função__:\n",
        "Uma sequência nomeada de instruções que realiza alguma operação útil. As funções podem ou não aceitar argumentos e podem ou não produzir um resultado.\n",
        "\n",
        "___definição de função___:\n",
        "Uma instrução que cria uma nova função, especificando seu nome, parâmetros e as instruções que ela executa.\n",
        "\n",
        "___objeto de função___:\n",
        "Um valor criado por uma definição de função. O nome da função é uma variável que se refere a um objeto de função.\n",
        "\n",
        "___cabeçalho___:\n",
        "A primeira linha de uma definição de função.\n",
        "\n",
        "___corpo___:\n",
        "A seqüência de instruções dentro de uma definição de função.\n",
        "\n",
        "___parâmetro___:\n",
        "Um nome usado dentro de uma função para se referir ao valor passado como argumento.\n",
        "\n",
        "___chamada de função___:\n",
        "Uma declaração que executa uma função. Consiste no nome da função seguido por uma lista de argumentos.\n",
        "\n",
        "___argumento___:\n",
        "Um valor fornecido para uma função quando a função é chamada. Este valor é atribuído ao parâmetro correspondente na\n",
        "função.\n",
        "\n",
        "___variável local___:\n",
        "Uma variável definida dentro de uma função. Uma variável local só pode ser usada dentro de sua função.\n",
        "\n",
        "___valor de retorno___:\n",
        "O resultado de uma função. Se uma chamada de função é usada como uma expressão, o valor de retorno é o valor da expressão.\n",
        "\n",
        "___função com retorno___:\n",
        "Uma função que retorna um valor.\n",
        "\n",
        "___função vazia___:\n",
        "Uma função que não retorna um valor.\n",
        "\n",
        "___módulo___:\n",
        "Um arquivo que contém uma coleção de funções relacionadas e outras definições.\n",
        "\n",
        "___declaração de importação___:\n",
        "Uma instrução que lê um arquivo de módulo e cria um objeto de módulo.\n",
        "\n",
        "___objeto do módulo___:\n",
        "Um valor criado por uma instrução de importação que fornece acesso aos valores definidos em um módulo.\n",
        "\n",
        "___notação de ponto___:\n",
        "A sintaxe para chamar uma função em outro módulo especificando o nome do módulo seguido por um ponto (ponto) e o nome da função.\n",
        "\n",
        "___composição___:\n",
        "Usando uma expressão como parte de uma expressão maior ou uma instrução como parte de uma instrução maior.\n",
        "\n",
        "___fluxo de execução___:\n",
        "A ordem em que as instruções são executadas durante uma execução do programa.\n",
        "\n",
        "___traceback___:\n",
        "Uma lista das funções que estão sendo executadas, impressas quando ocorre uma exceção.\n"
      ]
    },
    {
      "cell_type": "markdown",
      "metadata": {
        "id": "lLw95iEWzVdr"
      },
      "source": [
        "### Exercício:\n",
        "\n",
        "   1. Escreva uma função com um valor de retorno que:\n",
        "      * tome como _input_ dois argumentos;\n",
        "      * execute a soma dos dois parâmetros que foram passados como argumento e atribua o resultado a uma variável;\n",
        "      * tenha como valor de retorno o dobro da soma dos dois parâmetros.\n",
        "\n",
        "   2. Um objeto de função é um valor que você pode atribuir a uma variável ou passar como um argumento. Por exemplo, ```do_twice``` é uma função que usa um objeto de função como argumento e o chama duas vezes:\n"
      ]
    },
    {
      "cell_type": "code",
      "metadata": {
        "id": "woArOSSNzVds"
      },
      "source": [
        "def do_twice (f):\n",
        "    f ()\n",
        "    f ()"
      ],
      "execution_count": null,
      "outputs": []
    },
    {
      "cell_type": "markdown",
      "metadata": {
        "id": "lbP8VjuQzVdu"
      },
      "source": [
        "Aqui está um exemplo que usa ```do_twice``` para chamar uma função chamada ```print_spam``` duas vezes.\n"
      ]
    },
    {
      "cell_type": "code",
      "metadata": {
        "id": "-h-QwkrvzVdw",
        "colab": {
          "base_uri": "https://localhost:8080/"
        },
        "outputId": "c833dabf-b1aa-4d63-9a9a-59e542822bd2"
      },
      "source": [
        "def print_spam ():\n",
        "    print('spam')\n",
        "\n",
        "do_twice (print_spam)"
      ],
      "execution_count": null,
      "outputs": [
        {
          "output_type": "stream",
          "name": "stdout",
          "text": [
            "spam\n",
            "spam\n"
          ]
        }
      ]
    },
    {
      "cell_type": "markdown",
      "metadata": {
        "id": "DL4IUvnOzVdz"
      },
      "source": [
        "Para este exercício :\n",
        "\n",
        "  a. Digite este exemplo em um script e teste-o.\n",
        "\n",
        "  b. Modifique ```do_twice``` para que sejam necessários dois argumentos, um objeto de função ``f`` e um valor ``x``, e chame a função duas vezes, passando o valor como um argumento.\n",
        "\n",
        "  c. Escreva uma versão mais geral de ```print_spam```, chamada ```print_twice```, que use uma _string_ como argumento e a imprima duas vezes.\n",
        "\n",
        "  d. Use a versão modificada (no item b) de ``` do_twice``` para chamar ```print_twice``` duas vezes, passando ```'spam'``` como um argumento.\n",
        "\n",
        "  e. Defina uma nova função chamada ```do_four``` que recebe um objeto de função e um valor e chama a função ___quatro___ vezes, passando o valor como um argumento. Deve haver apenas duas declarações no corpo desta função, e não quatro.\n",
        "  "
      ]
    },
    {
      "cell_type": "markdown",
      "metadata": {
        "id": "XJPOxWXqzVdz"
      },
      "source": [
        "Esta aula foi tomada quase íntegramente do livro ThinkPython, capítulo 3 http://greenteapress.com/thinkpython/html/thinkpython004.html\n"
      ]
    },
    {
      "cell_type": "code",
      "source": [
        "#Exercício 1:\n",
        "\n",
        "def função(x,y):\n",
        "  z=x+y\n",
        "  a = z*2\n",
        "  return a"
      ],
      "metadata": {
        "id": "voyPKsg_XGXO"
      },
      "execution_count": null,
      "outputs": []
    },
    {
      "cell_type": "code",
      "source": [
        "função(2,3)\n"
      ],
      "metadata": {
        "colab": {
          "base_uri": "https://localhost:8080/"
        },
        "id": "Drva331iY2Ns",
        "outputId": "b2883e26-1809-45a7-cfcc-8e144c52c7d4"
      },
      "execution_count": null,
      "outputs": [
        {
          "output_type": "execute_result",
          "data": {
            "text/plain": [
              "10"
            ]
          },
          "metadata": {},
          "execution_count": 32
        }
      ]
    },
    {
      "cell_type": "code",
      "source": [
        "#Exercício 2\n",
        "\n",
        "def do_twice(f, k):\n",
        "  f(k)\n",
        "  f(k)\n",
        "\n",
        "def print_twice (s):\n",
        "    print(s)\n",
        "    print(s)\n",
        "\n",
        "do_twice (print_twice,'spam')\n",
        "\n",
        "\n",
        "\n",
        "\n"
      ],
      "metadata": {
        "colab": {
          "base_uri": "https://localhost:8080/"
        },
        "id": "oiakM5U9Y7CF",
        "outputId": "cd241063-36e3-4d9f-855d-7fde163af1e8"
      },
      "execution_count": null,
      "outputs": [
        {
          "output_type": "stream",
          "name": "stdout",
          "text": [
            "spam\n",
            "spam\n",
            "spam\n",
            "spam\n"
          ]
        }
      ]
    },
    {
      "cell_type": "code",
      "source": [
        "def do_twice(f,x):\n",
        "  f()\n",
        "  f()\n",
        "def print_spam(x):\n",
        "  # print('spam')\n",
        "\n",
        "do_twice(print_spam())"
      ],
      "metadata": {
        "colab": {
          "base_uri": "https://localhost:8080/",
          "height": 106
        },
        "id": "SnowwcdDZgtt",
        "outputId": "443825e0-e957-4121-dbe0-f6548518fedf"
      },
      "execution_count": null,
      "outputs": [
        {
          "output_type": "error",
          "ename": "IndentationError",
          "evalue": "expected an indented block after function definition on line 4 (ipython-input-3588476364.py, line 7)",
          "traceback": [
            "\u001b[0;36m  File \u001b[0;32m\"/tmp/ipython-input-3588476364.py\"\u001b[0;36m, line \u001b[0;32m7\u001b[0m\n\u001b[0;31m    do_twice(print_spam(2))\u001b[0m\n\u001b[0m    ^\u001b[0m\n\u001b[0;31mIndentationError\u001b[0m\u001b[0;31m:\u001b[0m expected an indented block after function definition on line 4\n"
          ]
        }
      ]
    },
    {
      "cell_type": "code",
      "source": [],
      "metadata": {
        "colab": {
          "base_uri": "https://localhost:8080/",
          "height": 141
        },
        "id": "3tDBANKVcKef",
        "outputId": "56724040-35f3-4b5e-cbdd-8b14304ec174"
      },
      "execution_count": null,
      "outputs": [
        {
          "output_type": "error",
          "ename": "TypeError",
          "evalue": "do_twice() missing 1 required positional argument: 'x'",
          "traceback": [
            "\u001b[0;31m---------------------------------------------------------------------------\u001b[0m",
            "\u001b[0;31mTypeError\u001b[0m                                 Traceback (most recent call last)",
            "\u001b[0;32m/tmp/ipython-input-3099791449.py\u001b[0m in \u001b[0;36m<cell line: 0>\u001b[0;34m()\u001b[0m\n\u001b[0;32m----> 1\u001b[0;31m \u001b[0mdo_twice\u001b[0m\u001b[0;34m(\u001b[0m\u001b[0;36m2\u001b[0m\u001b[0;34m)\u001b[0m\u001b[0;34m\u001b[0m\u001b[0;34m\u001b[0m\u001b[0m\n\u001b[0m",
            "\u001b[0;31mTypeError\u001b[0m: do_twice() missing 1 required positional argument: 'x'"
          ]
        }
      ]
    },
    {
      "cell_type": "code",
      "source": [],
      "metadata": {
        "id": "ErP3wz4KcM0u"
      },
      "execution_count": null,
      "outputs": []
    }
  ]
}