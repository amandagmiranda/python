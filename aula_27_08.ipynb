{
  "nbformat": 4,
  "nbformat_minor": 0,
  "metadata": {
    "colab": {
      "provenance": [],
      "authorship_tag": "ABX9TyNHd4b+IxGAE1vQQF2d0yiW",
      "include_colab_link": true
    },
    "kernelspec": {
      "name": "python3",
      "display_name": "Python 3"
    },
    "language_info": {
      "name": "python"
    }
  },
  "cells": [
    {
      "cell_type": "markdown",
      "metadata": {
        "id": "view-in-github",
        "colab_type": "text"
      },
      "source": [
        "<a href=\"https://colab.research.google.com/github/amandagmiranda/python/blob/main/aula_27_08.ipynb\" target=\"_parent\"><img src=\"https://colab.research.google.com/assets/colab-badge.svg\" alt=\"Open In Colab\"/></a>"
      ]
    },
    {
      "cell_type": "code",
      "execution_count": null,
      "metadata": {
        "colab": {
          "base_uri": "https://localhost:8080/"
        },
        "id": "N1jhaaN2P0Dt",
        "outputId": "c9d76562-940e-417c-d06d-995b69f2bb3e"
      },
      "outputs": [
        {
          "name": "stdout",
          "output_type": "stream",
          "text": [
            "Qual sua idade?24\n",
            "Outra idade25\n"
          ]
        }
      ],
      "source": [
        "#nome = input('Qual seu nome?')\n",
        "idade = int(input('Qual sua idade?'))\n",
        "idade2 = int(input('Outra idade'))\n",
        "#curso = input ('Qual seu curso?')"
      ]
    },
    {
      "cell_type": "code",
      "source": [
        "print(idade + idade2)"
      ],
      "metadata": {
        "colab": {
          "base_uri": "https://localhost:8080/"
        },
        "id": "Vyh-syM5SzJR",
        "outputId": "b1f07e7c-4326-42d8-d53d-41d14c0e086b"
      },
      "execution_count": null,
      "outputs": [
        {
          "output_type": "stream",
          "name": "stdout",
          "text": [
            "49\n"
          ]
        }
      ]
    },
    {
      "cell_type": "code",
      "source": [
        "l= int(input ('Qual é o tamanho do lado do quadrado? '))\n",
        "A = l**2"
      ],
      "metadata": {
        "colab": {
          "base_uri": "https://localhost:8080/"
        },
        "id": "rO4mKZ76VqcD",
        "outputId": "c5034d81-1336-43d8-caf9-13a65f278b85"
      },
      "execution_count": null,
      "outputs": [
        {
          "name": "stdout",
          "output_type": "stream",
          "text": [
            "Qual é o tamanho do lado do quadrado? 5\n"
          ]
        }
      ]
    },
    {
      "cell_type": "code",
      "source": [
        "print (f'A área do quadrado é {A}, pois ele tem um lado de {l}')"
      ],
      "metadata": {
        "colab": {
          "base_uri": "https://localhost:8080/"
        },
        "id": "t7iZ0EqPWKrM",
        "outputId": "970c849c-b804-4280-a3f7-df4990a34a9c"
      },
      "execution_count": null,
      "outputs": [
        {
          "output_type": "stream",
          "name": "stdout",
          "text": [
            "A área do quadrado é 25, pois ele tem um lado de 5\n"
          ]
        }
      ]
    },
    {
      "cell_type": "code",
      "source": [
        "largura = 17\n",
        "altura = 12.0\n",
        "delimitador = \".\"\n",
        "print(largura/2)\n",
        "print(largura/2.0)\n",
        "print(altura/3)\n",
        "print(1+2*5)\n",
        "print(delimitador*5)\n"
      ],
      "metadata": {
        "colab": {
          "base_uri": "https://localhost:8080/"
        },
        "id": "hWkc6Cr-bgVe",
        "outputId": "27ccad01-efc9-4232-9578-6922ff6cb9c0"
      },
      "execution_count": null,
      "outputs": [
        {
          "output_type": "stream",
          "name": "stdout",
          "text": [
            "8.5\n",
            "8.5\n",
            "4.0\n",
            "11\n",
            ".....\n"
          ]
        }
      ]
    },
    {
      "cell_type": "code",
      "source": [
        "pi=3.14\n",
        "r=5\n",
        "V=(4/3)*pi*r**3\n",
        "print(V)"
      ],
      "metadata": {
        "colab": {
          "base_uri": "https://localhost:8080/"
        },
        "id": "D60wVWPNdodZ",
        "outputId": "e2c74fd5-f442-4ca1-b460-1e2770816f49"
      },
      "execution_count": null,
      "outputs": [
        {
          "output_type": "stream",
          "name": "stdout",
          "text": [
            "523.3333333333334\n"
          ]
        }
      ]
    }
  ]
}